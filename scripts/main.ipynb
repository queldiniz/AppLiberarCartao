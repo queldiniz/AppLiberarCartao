{
 "cells": [
  {
   "cell_type": "code",
   "execution_count": 7,
   "metadata": {},
   "outputs": [
    {
     "name": "stdout",
     "output_type": "stream",
     "text": [
      "Cartao Adicionado: will\n",
      "Cartao Adicionado: brad\n",
      "Cartao Adicionado: nubank\n",
      "Cartoes adicionados: will, brad, nubank\n"
     ]
    }
   ],
   "source": [
    "#Permitir que o usuário digite a quantidade de cartoes\n",
    "\n",
    "lista_cartoes = []\n",
    "\n",
    "#while true é muito interessante, principalmente quando quero dar a opção do usuário\n",
    "# finalizar o programa, basta colocar o input e var recebendo um vazio, no caso == \" \"\n",
    "while True:\n",
    "    cartao = input(\"Digite o nome do Cartao a ser inserido\")\n",
    "    if cartao == \"\":\n",
    "        break\n",
    "    else:\n",
    "        lista_cartoes.append(cartao)\n",
    "        print(f\"Cartao Adicionado: {cartao}\")\n",
    "\n",
    "texto_cartoes = \", \".join(lista_cartoes)\n",
    "print(\"Cartoes adicionados:\", texto_cartoes)\n",
    "\n"
   ]
  },
  {
   "cell_type": "markdown",
   "metadata": {},
   "source": [
    "## Trabalhar com as datas de vencimento"
   ]
  },
  {
   "cell_type": "code",
   "execution_count": 11,
   "metadata": {},
   "outputs": [
    {
     "data": {
      "text/html": [
       "<div>\n",
       "<style scoped>\n",
       "    .dataframe tbody tr th:only-of-type {\n",
       "        vertical-align: middle;\n",
       "    }\n",
       "\n",
       "    .dataframe tbody tr th {\n",
       "        vertical-align: top;\n",
       "    }\n",
       "\n",
       "    .dataframe thead th {\n",
       "        text-align: right;\n",
       "    }\n",
       "</style>\n",
       "<table border=\"1\" class=\"dataframe\">\n",
       "  <thead>\n",
       "    <tr style=\"text-align: right;\">\n",
       "      <th></th>\n",
       "      <th>Assinatura</th>\n",
       "      <th>Valor</th>\n",
       "      <th>Data Cobranca</th>\n",
       "      <th>Cartao</th>\n",
       "    </tr>\n",
       "  </thead>\n",
       "  <tbody>\n",
       "    <tr>\n",
       "      <th>0</th>\n",
       "      <td>Uber</td>\n",
       "      <td>19.90</td>\n",
       "      <td>20</td>\n",
       "      <td>brad</td>\n",
       "    </tr>\n",
       "    <tr>\n",
       "      <th>1</th>\n",
       "      <td>Spotify</td>\n",
       "      <td>21.90</td>\n",
       "      <td>8</td>\n",
       "      <td>brad</td>\n",
       "    </tr>\n",
       "    <tr>\n",
       "      <th>2</th>\n",
       "      <td>Google</td>\n",
       "      <td>7.99</td>\n",
       "      <td>17</td>\n",
       "      <td>brad</td>\n",
       "    </tr>\n",
       "    <tr>\n",
       "      <th>3</th>\n",
       "      <td>Max</td>\n",
       "      <td>8.90</td>\n",
       "      <td>25</td>\n",
       "      <td>will</td>\n",
       "    </tr>\n",
       "    <tr>\n",
       "      <th>4</th>\n",
       "      <td>Academia</td>\n",
       "      <td>55.90</td>\n",
       "      <td>3</td>\n",
       "      <td>will</td>\n",
       "    </tr>\n",
       "    <tr>\n",
       "      <th>5</th>\n",
       "      <td>Microsoft</td>\n",
       "      <td>11.90</td>\n",
       "      <td>27</td>\n",
       "      <td>nubank</td>\n",
       "    </tr>\n",
       "  </tbody>\n",
       "</table>\n",
       "</div>"
      ],
      "text/plain": [
       "  Assinatura  Valor  Data Cobranca  Cartao\n",
       "0       Uber  19.90             20    brad\n",
       "1    Spotify  21.90              8    brad\n",
       "2     Google   7.99             17    brad\n",
       "3        Max   8.90             25    will\n",
       "4   Academia  55.90              3    will\n",
       "5  Microsoft  11.90             27  nubank"
      ]
     },
     "execution_count": 11,
     "metadata": {},
     "output_type": "execute_result"
    }
   ],
   "source": [
    "#lembre-se de criar um arquivo com os nomes e datas, pandas e datetime\n",
    "\n",
    "import pandas as pd\n",
    "\n",
    "base_cartao = pd.read_excel(r'C:/Users/quel_/OneDrive/Base_Cartao.xlsx')\n",
    "\n",
    "base_cartao"
   ]
  },
  {
   "cell_type": "markdown",
   "metadata": {},
   "source": [
    "## Disparar aviso no email sempre que tiver alguma assinatura perto, 1 dia antes"
   ]
  },
  {
   "cell_type": "code",
   "execution_count": null,
   "metadata": {},
   "outputs": [],
   "source": [
    "#Integração com outlook/Gmail\n"
   ]
  }
 ],
 "metadata": {
  "kernelspec": {
   "display_name": "base",
   "language": "python",
   "name": "python3"
  },
  "language_info": {
   "codemirror_mode": {
    "name": "ipython",
    "version": 3
   },
   "file_extension": ".py",
   "mimetype": "text/x-python",
   "name": "python",
   "nbconvert_exporter": "python",
   "pygments_lexer": "ipython3",
   "version": "3.10.9"
  }
 },
 "nbformat": 4,
 "nbformat_minor": 2
}
