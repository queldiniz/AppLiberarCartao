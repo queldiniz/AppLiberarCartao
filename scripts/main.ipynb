{
 "cells": [
  {
   "cell_type": "code",
   "execution_count": 7,
   "metadata": {},
   "outputs": [
    {
     "name": "stdout",
     "output_type": "stream",
     "text": [
      "Cartao Adicionado: will\n",
      "Cartao Adicionado: brad\n",
      "Cartao Adicionado: nubank\n",
      "Cartoes adicionados: will, brad, nubank\n"
     ]
    }
   ],
   "source": [
    "#Permitir que o usuário digite a quantidade de cartoes\n",
    "\n",
    "lista_cartoes = []\n",
    "\n",
    "\n",
    "#while true é muito interessante, principalmente quando quero dar a opção do usuário\n",
    "# finalizar o programa, basta colocar o input e var recebendo um vazio, no caso == \" \"\n",
    "while True:\n",
    "    cartao = input(\"Escreva uma tarefa para adicionar a sua ToDo List\")\n",
    "    if cartao == \"\":\n",
    "        break\n",
    "    else:\n",
    "        lista_cartoes.append(cartao)\n",
    "        print(f\"Cartao Adicionado: {cartao}\")\n",
    "\n",
    "# print(\"Quantidade de tarefas para hoje:\", len(lista_cartoes))\n",
    "texto_cartoes = \", \".join(lista_cartoes)\n",
    "print(\"Cartoes adicionados:\", texto_cartoes)\n",
    "\n"
   ]
  },
  {
   "cell_type": "markdown",
   "metadata": {},
   "source": [
    "## Trabalhar com as datas de vencimento"
   ]
  },
  {
   "cell_type": "code",
   "execution_count": null,
   "metadata": {},
   "outputs": [],
   "source": [
    "#lembre-se de criar um arquivo com os nomes e datas, pandas e datetime"
   ]
  },
  {
   "cell_type": "markdown",
   "metadata": {},
   "source": [
    "## Disparar aviso no email sempre que tiver alguma assinatura perto, 1 dia antes"
   ]
  },
  {
   "cell_type": "code",
   "execution_count": null,
   "metadata": {},
   "outputs": [],
   "source": [
    "#Integração com outlook\n"
   ]
  }
 ],
 "metadata": {
  "kernelspec": {
   "display_name": "base",
   "language": "python",
   "name": "python3"
  },
  "language_info": {
   "codemirror_mode": {
    "name": "ipython",
    "version": 3
   },
   "file_extension": ".py",
   "mimetype": "text/x-python",
   "name": "python",
   "nbconvert_exporter": "python",
   "pygments_lexer": "ipython3",
   "version": "3.10.9"
  }
 },
 "nbformat": 4,
 "nbformat_minor": 2
}
